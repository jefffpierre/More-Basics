{
 "cells": [
  {
   "cell_type": "markdown",
   "metadata": {},
   "source": [
    "# Variables & Functions"
   ]
  },
  {
   "cell_type": "code",
   "execution_count": 3,
   "metadata": {},
   "outputs": [
    {
     "name": "stdout",
     "output_type": "stream",
     "text": [
      "20 days are 28800 in minutes\n"
     ]
    }
   ],
   "source": [
    "butter = (20 * 24 * 60)\n",
    "print(f\"20 days are {butter} in minutes\")"
   ]
  },
  {
   "cell_type": "code",
   "execution_count": 5,
   "metadata": {},
   "outputs": [
    {
     "name": "stdout",
     "output_type": "stream",
     "text": [
      "20 days are 28800 minutes\n"
     ]
    }
   ],
   "source": [
    "print(\"20 days are \" + str(butter) +\" minutes\")"
   ]
  },
  {
   "cell_type": "code",
   "execution_count": 58,
   "metadata": {},
   "outputs": [],
   "source": [
    "calculation_to_hours = 24\n",
    "name_of_unitHours = \"hours\"\n",
    "\n",
    "print(f\"35 days are {35 * calculation_to_hours} {name_of_unitHours}\")"
   ]
  },
  {
   "cell_type": "code",
   "execution_count": 50,
   "metadata": {},
   "outputs": [],
   "source": [
    "calculation_to_minutes = 24 * 60\n",
    "name_of_unitMinutes = \"minutes\"\n",
    "\n",
    "print(f\"35 days are {35 * calculation_to_minutes} {name_of_unitMinutes}\")"
   ]
  },
  {
   "cell_type": "code",
   "execution_count": 33,
   "metadata": {},
   "outputs": [],
   "source": [
    "calculation_to_seconds = 24 * 60 * 60\n",
    "name_of_unitSeconds = \"seconds\"\n",
    "\n",
    "print(f\"50 days are {50 * calculation_to_seconds} {name_of_unitSeconds}\")"
   ]
  },
  {
   "cell_type": "code",
   "execution_count": 60,
   "metadata": {},
   "outputs": [
    {
     "name": "stdout",
     "output_type": "stream",
     "text": [
      "20 days are 480 hours\n",
      "35 days are 840 hours\n",
      "50 days are 1200 hours\n",
      "110 days are 2640 hours\n",
      "He is Risen\n"
     ]
    }
   ],
   "source": [
    "calculation_to_seconds = 24\n",
    "name_of_unitHours = \"hours\"\n",
    "\n",
    "def days_to_units(number_of_days):\n",
    "    print(f\"{number_of_days} days are {number_of_days * calculation_to_seconds} {name_of_unitHours}\")\n",
    "    \n",
    "days_to_units(20)\n",
    "days_to_units(35)\n",
    "days_to_units(50)\n",
    "days_to_units(110)\n",
    "print(\"He is Risen\")"
   ]
  },
  {
   "cell_type": "code",
   "execution_count": 61,
   "metadata": {},
   "outputs": [
    {
     "name": "stdout",
     "output_type": "stream",
     "text": [
      "20 days are 28800 minutes\n",
      "35 days are 50400 minutes\n",
      "50 days are 72000 minutes\n",
      "110 days are 158400 minutes\n",
      "He is Risen\n"
     ]
    }
   ],
   "source": [
    "calculation_to_minutes = 24 * 60\n",
    "name_of_unitMinutes = \"minutes\"\n",
    "\n",
    "def days_to_units(number_of_days):\n",
    "    print(f\"{number_of_days} days are {number_of_days * calculation_to_minutes} {name_of_unitMinutes}\")\n",
    "\n",
    "days_to_units(20)\n",
    "days_to_units(35)\n",
    "days_to_units(50)\n",
    "days_to_units(110)\n",
    "print(\"He is Risen\")"
   ]
  },
  {
   "cell_type": "code",
   "execution_count": 1,
   "metadata": {},
   "outputs": [
    {
     "name": "stdout",
     "output_type": "stream",
     "text": [
      "20 days are 1728000 seconds\n",
      "35 days are 3024000 seconds\n",
      "50 days are 4320000 seconds\n",
      "110 days are 9504000 seconds\n",
      "He is Risen\n"
     ]
    }
   ],
   "source": [
    "calculation_to_seconds = 24 * 60 * 60\n",
    "name_of_unitSeconds = \"seconds\"\n",
    "\n",
    "def days_to_units(number_of_days):\n",
    "    print(f\"{number_of_days} days are {number_of_days * calculation_to_seconds} {name_of_unitSeconds}\")\n",
    "    \n",
    "days_to_units(20)\n",
    "days_to_units(35)\n",
    "days_to_units(50)\n",
    "days_to_units(110)\n",
    "print(\"He is Risen\")"
   ]
  },
  {
   "cell_type": "markdown",
   "metadata": {},
   "source": [
    "# Scope Check shows what's in the variable"
   ]
  },
  {
   "cell_type": "code",
   "execution_count": 2,
   "metadata": {},
   "outputs": [
    {
     "name": "stdout",
     "output_type": "stream",
     "text": [
      "20 days are 480 hours and He is Risen\n",
      "35 days are 840 hours and He is Risen\n",
      "50 days are 1200 hours and He is Risen\n",
      "110 days are 2640 hours and He is Risen\n",
      "Scope check is the name of the variable which right now is hours\n",
      "The number of days being used: 20\n",
      "my_var is the variable inside of function\n"
     ]
    }
   ],
   "source": [
    "calculation_to_hours = 24\n",
    "name_of_unitHours = \"hours\"\n",
    "\n",
    "def days_to_units(number_of_days, custom_message):\n",
    "    print(f\"{number_of_days} days are {number_of_days * calculation_to_hours} {name_of_unitHours}\", custom_message)\n",
    "\n",
    "def scope_check(number_of_days): #parameter considered a global variable\n",
    "    my_var = \"variable inside of function\"\n",
    "    print(f\"Scope check is the name of the variable which right now is {name_of_unitHours}\" )\n",
    "    print(f\"The number of days being used: {number_of_days}\")\n",
    "    print(f\"my_var is the {my_var}\")\n",
    "\n",
    "\n",
    "days_to_units(20, \"and He is Risen\")\n",
    "days_to_units(35, \"and He is Risen\")\n",
    "days_to_units(50, \"and He is Risen\")\n",
    "days_to_units(110, \"and He is Risen\")\n",
    "scope_check(20)\n"
   ]
  },
  {
   "cell_type": "markdown",
   "metadata": {},
   "source": [
    "# Function with the User Value"
   ]
  },
  {
   "cell_type": "code",
   "execution_count": 77,
   "metadata": {},
   "outputs": [
    {
     "name": "stdout",
     "output_type": "stream",
     "text": [
      "20\n"
     ]
    }
   ],
   "source": [
    "calculation_to_seconds = 24\n",
    "name_of_unitHours = \"hours\"\n",
    "\n",
    "def days_to_units(number_of_days):\n",
    "    print(f\"{number_of_days} days are {number_of_days * calculation_to_seconds} {name_of_unitHours}\")\n",
    "\n",
    "result = input(f\"Enter value for number of days to be converted into hours \\n\")\n",
    "print(result)"
   ]
  },
  {
   "cell_type": "code",
   "execution_count": 3,
   "metadata": {},
   "outputs": [
    {
     "ename": "ValueError",
     "evalue": "invalid literal for int() with base 10: 'text'",
     "output_type": "error",
     "traceback": [
      "\u001b[1;31m---------------------------------------------------------------------------\u001b[0m",
      "\u001b[1;31mValueError\u001b[0m                                Traceback (most recent call last)",
      "\u001b[1;32m~\\AppData\\Local\\Temp/ipykernel_7536/1719839353.py\u001b[0m in \u001b[0;36m<module>\u001b[1;34m\u001b[0m\n\u001b[0;32m      6\u001b[0m \u001b[1;33m\u001b[0m\u001b[0m\n\u001b[0;32m      7\u001b[0m \u001b[1;31m# If 'int' is not included here (casting), trouble! It'll print the user_input 24 times since it sees it as a string\u001b[0m\u001b[1;33m\u001b[0m\u001b[1;33m\u001b[0m\u001b[0m\n\u001b[1;32m----> 8\u001b[1;33m \u001b[0muser_input\u001b[0m \u001b[1;33m=\u001b[0m \u001b[0mint\u001b[0m\u001b[1;33m(\u001b[0m\u001b[0minput\u001b[0m\u001b[1;33m(\u001b[0m\u001b[1;34mf\"Enter value for number of days to be converted into hours \\n\"\u001b[0m\u001b[1;33m)\u001b[0m\u001b[1;33m)\u001b[0m\u001b[1;33m\u001b[0m\u001b[1;33m\u001b[0m\u001b[0m\n\u001b[0m\u001b[0;32m      9\u001b[0m \u001b[0mcalc_value\u001b[0m \u001b[1;33m=\u001b[0m \u001b[0mdays_to_units\u001b[0m\u001b[1;33m(\u001b[0m\u001b[0muser_input\u001b[0m\u001b[1;33m)\u001b[0m\u001b[1;33m\u001b[0m\u001b[1;33m\u001b[0m\u001b[0m\n\u001b[0;32m     10\u001b[0m \u001b[0mprint\u001b[0m\u001b[1;33m(\u001b[0m\u001b[0mcalc_value\u001b[0m\u001b[1;33m)\u001b[0m\u001b[1;33m\u001b[0m\u001b[1;33m\u001b[0m\u001b[0m\n",
      "\u001b[1;31mValueError\u001b[0m: invalid literal for int() with base 10: 'text'"
     ]
    }
   ],
   "source": [
    "calculation_to_hours = 24\n",
    "name_of_unitHours = \"hours\"\n",
    "\n",
    "def days_to_units(number_of_days):\n",
    "    return f\"{number_of_days} days are {number_of_days * calculation_to_hours} {name_of_unitHours}\"\n",
    "\n",
    "# If 'int' is not included here (casting), trouble! It'll print the user_input 24 times since it sees it as a string\n",
    "user_input = int(input(f\"Enter value for number of days to be converted into hours \\n\")) \n",
    "calc_value = days_to_units(user_input)\n",
    "print(calc_value)"
   ]
  },
  {
   "cell_type": "markdown",
   "metadata": {},
   "source": [
    "# Function with the Return Value"
   ]
  },
  {
   "cell_type": "code",
   "execution_count": 1,
   "metadata": {},
   "outputs": [
    {
     "name": "stdout",
     "output_type": "stream",
     "text": [
      "20 days are 480 hours\n"
     ]
    }
   ],
   "source": [
    "calculation_to_seconds = 24\n",
    "name_of_unitHours = \"hours\"\n",
    "\n",
    "def days_to_units(number_of_days):\n",
    "    return f\"{number_of_days} days are {number_of_days * calculation_to_seconds} {name_of_unitHours}\"\n",
    "\n",
    "my_var = days_to_units(20)\n",
    "print(my_var)\n",
    "\n"
   ]
  },
  {
   "cell_type": "markdown",
   "metadata": {},
   "source": [
    "# Conditionals (if/else) & Boolean Data Type"
   ]
  },
  {
   "cell_type": "code",
   "execution_count": null,
   "metadata": {},
   "outputs": [],
   "source": [
    "calculation_to_hours = 24\n",
    "name_of_unitHours = \"hours\"\n",
    "\n",
    "def days_to_units(number_of_days):\n",
    "    return f\"{number_of_days} days are {number_of_days * calculation_to_hours} {name_of_unitHours}\"\n",
    "\n",
    "# If 'int' is not included here (casting), trouble! It'll print the user_input 24 times since it sees it as a string\n",
    "user_input = int(input(f\"Enter value for number of days to be converted into hours \\n\")) \n",
    "calc_value = days_to_units(user_input)\n",
    "print(calc_value)"
   ]
  }
 ],
 "metadata": {
  "interpreter": {
   "hash": "504a0bd1ff6cd9b5c9ceefbc2d92d99b24c0c4c6fcdb7d66189c03b11e5237d1"
  },
  "kernelspec": {
   "display_name": "Python 3.9.7 64-bit",
   "language": "python",
   "name": "python3"
  },
  "language_info": {
   "codemirror_mode": {
    "name": "ipython",
    "version": 3
   },
   "file_extension": ".py",
   "mimetype": "text/x-python",
   "name": "python",
   "nbconvert_exporter": "python",
   "pygments_lexer": "ipython3",
   "version": "3.9.7"
  },
  "orig_nbformat": 4
 },
 "nbformat": 4,
 "nbformat_minor": 2
}
