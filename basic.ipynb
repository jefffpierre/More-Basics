{
 "cells": [
  {
   "cell_type": "markdown",
   "metadata": {},
   "source": [
    "# Variables & Functions"
   ]
  },
  {
   "cell_type": "code",
   "execution_count": 3,
   "metadata": {},
   "outputs": [
    {
     "name": "stdout",
     "output_type": "stream",
     "text": [
      "20 days are 28800 in minutes\n"
     ]
    }
   ],
   "source": [
    "butter = (20 * 24 * 60)\n",
    "print(f\"20 days are {butter} in minutes\")"
   ]
  },
  {
   "cell_type": "code",
   "execution_count": 5,
   "metadata": {},
   "outputs": [
    {
     "name": "stdout",
     "output_type": "stream",
     "text": [
      "20 days are 28800 minutes\n"
     ]
    }
   ],
   "source": [
    "print(\"20 days are \" + str(butter) +\" minutes\")"
   ]
  },
  {
   "cell_type": "code",
   "execution_count": 58,
   "metadata": {},
   "outputs": [],
   "source": [
    "calculation_to_hours = 24\n",
    "name_of_unitHours = \"hours\"\n",
    "\n",
    "print(f\"35 days are {35 * calculation_to_hours} {name_of_unitHours}\")"
   ]
  },
  {
   "cell_type": "code",
   "execution_count": 50,
   "metadata": {},
   "outputs": [],
   "source": [
    "calculation_to_minutes = 24 * 60\n",
    "name_of_unitMinutes = \"minutes\"\n",
    "\n",
    "print(f\"35 days are {35 * calculation_to_minutes} {name_of_unitMinutes}\")"
   ]
  },
  {
   "cell_type": "code",
   "execution_count": 33,
   "metadata": {},
   "outputs": [],
   "source": [
    "calculation_to_seconds = 24 * 60 * 60\n",
    "name_of_unitSeconds = \"seconds\"\n",
    "\n",
    "print(f\"50 days are {50 * calculation_to_seconds} {name_of_unitSeconds}\")"
   ]
  },
  {
   "cell_type": "code",
   "execution_count": 60,
   "metadata": {},
   "outputs": [
    {
     "name": "stdout",
     "output_type": "stream",
     "text": [
      "20 days are 480 hours\n",
      "35 days are 840 hours\n",
      "50 days are 1200 hours\n",
      "110 days are 2640 hours\n",
      "He is Risen\n"
     ]
    }
   ],
   "source": [
    "calculation_to_seconds = 24\n",
    "name_of_unitHours = \"hours\"\n",
    "\n",
    "def days_to_units(number_of_days):\n",
    "    print(f\"{number_of_days} days are {number_of_days * calculation_to_seconds} {name_of_unitHours}\")\n",
    "    \n",
    "days_to_units(20)\n",
    "days_to_units(35)\n",
    "days_to_units(50)\n",
    "days_to_units(110)\n",
    "print(\"He is Risen\")"
   ]
  },
  {
   "cell_type": "code",
   "execution_count": 61,
   "metadata": {},
   "outputs": [
    {
     "name": "stdout",
     "output_type": "stream",
     "text": [
      "20 days are 28800 minutes\n",
      "35 days are 50400 minutes\n",
      "50 days are 72000 minutes\n",
      "110 days are 158400 minutes\n",
      "He is Risen\n"
     ]
    }
   ],
   "source": [
    "calculation_to_minutes = 24 * 60\n",
    "name_of_unitMinutes = \"minutes\"\n",
    "\n",
    "def days_to_units(number_of_days):\n",
    "    print(f\"{number_of_days} days are {number_of_days * calculation_to_minutes} {name_of_unitMinutes}\")\n",
    "\n",
    "days_to_units(20)\n",
    "days_to_units(35)\n",
    "days_to_units(50)\n",
    "days_to_units(110)\n",
    "print(\"He is Risen\")"
   ]
  },
  {
   "cell_type": "code",
   "execution_count": 62,
   "metadata": {},
   "outputs": [
    {
     "name": "stdout",
     "output_type": "stream",
     "text": [
      "20 days are 1728000 seconds\n",
      "35 days are 3024000 seconds\n",
      "50 days are 4320000 seconds\n",
      "110 days are 9504000 seconds\n",
      "He is Risen\n"
     ]
    }
   ],
   "source": [
    "calculation_to_seconds = 24 * 60 * 60\n",
    "name_of_unitSeconds = \"seconds\"\n",
    "\n",
    "def days_to_units(number_of_days):\n",
    "    print(f\"{number_of_days} days are {number_of_days * calculation_to_seconds} {name_of_unitSeconds}\")\n",
    "    \n",
    "days_to_units(20)\n",
    "days_to_units(35)\n",
    "days_to_units(50)\n",
    "days_to_units(110)\n",
    "print(\"He is Risen\")"
   ]
  },
  {
   "cell_type": "markdown",
   "metadata": {},
   "source": [
    "# Scope Check shows what's in the variable"
   ]
  },
  {
   "cell_type": "code",
   "execution_count": 84,
   "metadata": {},
   "outputs": [
    {
     "name": "stdout",
     "output_type": "stream",
     "text": [
      "20 days are 480 hours and He is Risen\n",
      "35 days are 840 hours and He is Risen\n",
      "50 days are 1200 hours andHe is Risen\n",
      "110 days are 2640 hours and He is Risen\n",
      "Scope check is the name of the variable which right now is hours\n",
      "20\n",
      "variable inside of function\n"
     ]
    }
   ],
   "source": [
    "calculation_to_hours = 24\n",
    "name_of_unitHours = \"hours\"\n",
    "\n",
    "def days_to_units(number_of_days, custom_message):\n",
    "    print(f\"{number_of_days} days are {number_of_days * calculation_to_hours} {name_of_unitHours}\", custom_message)\n",
    "\n",
    "def scope_check(number_of_days): #parameter considered a global variable\n",
    "    my_var = \"variable inside of function\"\n",
    "    print(f\"Scope check is the name of the variable which right now is {name_of_unitHours}\" )\n",
    "    print(number_of_days)\n",
    "    print(my_var)\n",
    "\n",
    "\n",
    "days_to_units(20, \"and He is Risen\")\n",
    "days_to_units(35, \"and He is Risen\")\n",
    "days_to_units(50, \"andHe is Risen\")\n",
    "days_to_units(110, \"and He is Risen\")\n",
    "scope_check(20)\n"
   ]
  },
  {
   "cell_type": "markdown",
   "metadata": {},
   "source": [
    "# Function with the User Value"
   ]
  },
  {
   "cell_type": "code",
   "execution_count": 77,
   "metadata": {},
   "outputs": [
    {
     "name": "stdout",
     "output_type": "stream",
     "text": [
      "20\n"
     ]
    }
   ],
   "source": [
    "calculation_to_seconds = 24\n",
    "name_of_unitHours = \"hours\"\n",
    "\n",
    "def days_to_units(number_of_days):\n",
    "    print(f\"{number_of_days} days are {number_of_days * calculation_to_seconds} {name_of_unitHours}\")\n",
    "\n",
    "result = input(f\"Enter value for number of days to be converted into hours \\n\")\n",
    "print(result)"
   ]
  },
  {
   "cell_type": "code",
   "execution_count": 89,
   "metadata": {},
   "outputs": [
    {
     "name": "stdout",
     "output_type": "stream",
     "text": [
      "20 days are 480 hours\n"
     ]
    }
   ],
   "source": [
    "calculation_to_hours = 24\n",
    "name_of_unitHours = \"hours\"\n",
    "\n",
    "def days_to_units(number_of_days):\n",
    "    return f\"{number_of_days} days are {number_of_days * calculation_to_hours} {name_of_unitHours}\"\n",
    "\n",
    "# If 'int' is not included here (casting), trouble! It'll print the user_input 24 times.\n",
    "user_input = int(input(f\"Enter value for number of days to be converted into hours \\n\")) \n",
    "calc_value = days_to_units(user_input)\n",
    "print(calc_value)"
   ]
  },
  {
   "cell_type": "markdown",
   "metadata": {},
   "source": [
    "# Function with the Return Value"
   ]
  },
  {
   "cell_type": "code",
   "execution_count": 80,
   "metadata": {},
   "outputs": [
    {
     "name": "stdout",
     "output_type": "stream",
     "text": [
      "20 days are 480 hours\n"
     ]
    }
   ],
   "source": [
    "calculation_to_seconds = 24\n",
    "name_of_unitHours = \"hours\"\n",
    "\n",
    "def days_to_units(number_of_days):\n",
    "    return f\"{number_of_days} days are {number_of_days * calculation_to_seconds} {name_of_unitHours}\"\n",
    "\n",
    "my_var = days_to_units(20)\n",
    "print(my_var)"
   ]
  }
 ],
 "metadata": {
  "interpreter": {
   "hash": "60b51427f979fa642d0033feef923a8722499a3dd60fba6b33cc7fbc8e3730d0"
  },
  "kernelspec": {
   "display_name": "Python 3.9.7 64-bit",
   "language": "python",
   "name": "python3"
  },
  "language_info": {
   "codemirror_mode": {
    "name": "ipython",
    "version": 3
   },
   "file_extension": ".py",
   "mimetype": "text/x-python",
   "name": "python",
   "nbconvert_exporter": "python",
   "pygments_lexer": "ipython3",
   "version": "3.9.7"
  },
  "orig_nbformat": 4
 },
 "nbformat": 4,
 "nbformat_minor": 2
}
